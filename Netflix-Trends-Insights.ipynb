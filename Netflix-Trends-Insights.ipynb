{
 "cells": [
  {
   "cell_type": "markdown",
   "metadata": {
    "id": "HhfV-JJviCcP"
   },
   "source": [
    "## ***1. Know Your Data***"
   ]
  },
  {
   "cell_type": "markdown",
   "metadata": {
    "id": "Y3lxredqlCYt"
   },
   "source": [
    "### Import Libraries"
   ]
  },
  {
   "cell_type": "code",
   "execution_count": 1,
   "metadata": {},
   "outputs": [
    {
     "name": "stdout",
     "output_type": "stream",
     "text": [
      "Notebook is working!\n"
     ]
    }
   ],
   "source": [
    "import pandas as pd\n",
    "print(\"Notebook is working!\")\n",
    "\n",
    "\n"
   ]
  },
  {
   "cell_type": "code",
   "execution_count": null,
   "metadata": {
    "id": "M8Vqi-pPk-HR"
   },
   "outputs": [],
   "source": [
    "# Import Libraries\n",
    "import numpy as np\n",
    "import pandas as pd\n",
    "import matplotlib.pyplot as plt\n",
    "%matplotlib inline\n",
    "import seaborn as sns"
   ]
  },
  {
   "cell_type": "markdown",
   "metadata": {
    "id": "3RnN4peoiCZX"
   },
   "source": [
    "### Dataset Loading"
   ]
  },
  {
   "cell_type": "code",
   "execution_count": null,
   "metadata": {
    "id": "4CkvbW_SlZ_R"
   },
   "outputs": [],
   "source": [
    "# Load Dataset\n",
    "df = pd.read_excel(\"/content/netflixdata.xlsx\")"
   ]
  },
  {
   "cell_type": "markdown",
   "metadata": {
    "id": "x71ZqKXriCWQ"
   },
   "source": [
    "### Dataset First View"
   ]
  },
  {
   "cell_type": "code",
   "execution_count": null,
   "metadata": {
    "id": "LWNFOSvLl09H"
   },
   "outputs": [],
   "source": [
    "# Dataset First Look\n",
    "df.head()"
   ]
  },
  {
   "cell_type": "markdown",
   "metadata": {
    "id": "7hBIi_osiCS2"
   },
   "source": [
    "### Dataset Rows & Columns count"
   ]
  },
  {
   "cell_type": "code",
   "execution_count": null,
   "metadata": {
    "id": "Kllu7SJgmLij"
   },
   "outputs": [],
   "source": [
    "# Dataset Rows & Columns count\n",
    "df.shape"
   ]
  },
  {
   "cell_type": "markdown",
   "metadata": {
    "id": "JlHwYmJAmNHm"
   },
   "source": [
    "### Dataset Information"
   ]
  },
  {
   "cell_type": "code",
   "execution_count": null,
   "metadata": {
    "id": "e9hRXRi6meOf"
   },
   "outputs": [],
   "source": [
    "# Dataset Info\n",
    "df.info()"
   ]
  },
  {
   "cell_type": "markdown",
   "metadata": {
    "id": "35m5QtbWiB9F"
   },
   "source": [
    "#### Duplicate Values"
   ]
  },
  {
   "cell_type": "code",
   "execution_count": null,
   "metadata": {
    "id": "1sLdpKYkmox0"
   },
   "outputs": [],
   "source": [
    "# Dataset Duplicate Value Count\n",
    "df.duplicated().sum()"
   ]
  },
  {
   "cell_type": "markdown",
   "metadata": {
    "id": "PoPl-ycgm1ru"
   },
   "source": [
    "#### Missing Values/Null Values"
   ]
  },
  {
   "cell_type": "code",
   "execution_count": null,
   "metadata": {
    "id": "GgHWkxvamxVg"
   },
   "outputs": [],
   "source": [
    "# Missing Values/Null Values Count\n",
    "df.isnull().sum()"
   ]
  },
  {
   "cell_type": "code",
   "execution_count": null,
   "metadata": {
    "id": "3q5wnI3om9sJ"
   },
   "outputs": [],
   "source": [
    "# Visualizing the missing values\n",
    "import missingno as msno\n",
    "msno.bar(df)\n",
    "\n"
   ]
  },
  {
   "cell_type": "markdown",
   "metadata": {
    "id": "H0kj-8xxnORC"
   },
   "source": [
    "### What did you know about your dataset?"
   ]
  },
  {
   "cell_type": "markdown",
   "metadata": {
    "id": "gfoNAAC-nUe_"
   },
   "source": [
    "There are 7787 rows and 12 columns in the dataset. Out of which 5 Columns have missing Values. Column director have most missing values of 2389, then cast with 718 missing values, then country with 507 missing values, then date_added with 10 missing values and ratings with least missing values of 7."
   ]
  },
  {
   "cell_type": "markdown",
   "metadata": {
    "id": "nA9Y7ga8ng1Z"
   },
   "source": [
    "## ***2. Understanding Your Variables***"
   ]
  },
  {
   "cell_type": "code",
   "execution_count": null,
   "metadata": {
    "id": "j7xfkqrt5Ag5"
   },
   "outputs": [],
   "source": [
    "# Dataset Columns\n",
    "df.columns"
   ]
  },
  {
   "cell_type": "code",
   "execution_count": null,
   "metadata": {
    "id": "DnOaZdaE5Q5t"
   },
   "outputs": [],
   "source": [
    "# Dataset Describe\n",
    "df.describe(include='all')"
   ]
  },
  {
   "cell_type": "markdown",
   "metadata": {
    "id": "PBTbrJXOngz2"
   },
   "source": [
    "### Variables Description"
   ]
  },
  {
   "cell_type": "markdown",
   "metadata": {
    "id": "aJV4KIxSnxay"
   },
   "source": [
    "| Column Name    | Description                                         |\n",
    "| -------------- | --------------------------------------------------- |\n",
    "| `show_id`      | Unique identifier for each Netflix title.           |\n",
    "| `type`         | Check Whether the content is a *Movie* or a *TV Show*.    |\n",
    "| `title`        | Title of the content.                               |\n",
    "| `director`     | Names of the directors.                         |\n",
    "| `cast`         | Name of the Lead actor.                |\n",
    "| `country`      | Country where the content was produced.             |\n",
    "| `date_added`   | Date the title was added to Netflix.                |\n",
    "| `release_year` | Year when the content was released.                 |\n",
    "| `rating`       | Age rating               |\n",
    "| `duration`     | Duration in minutes. |\n",
    "| `listed_in`    | Genres of the content.                            |\n",
    "| `description`  | Brief description or synopsis.                      |\n"
   ]
  },
  {
   "cell_type": "markdown",
   "metadata": {
    "id": "u3PMJOP6ngxN"
   },
   "source": [
    "### Check Unique Values for each variable."
   ]
  },
  {
   "cell_type": "code",
   "execution_count": null,
   "metadata": {
    "id": "zms12Yq5n-jE"
   },
   "outputs": [],
   "source": [
    "# Check Unique Values for each variable.\n",
    "df.nunique()\n"
   ]
  },
  {
   "cell_type": "markdown",
   "metadata": {
    "id": "dauF4eBmngu3"
   },
   "source": [
    "## 3. ***Data Wrangling***"
   ]
  },
  {
   "cell_type": "markdown",
   "metadata": {
    "id": "bKJF3rekwFvQ"
   },
   "source": [
    "### Data Wrangling Code"
   ]
  },
  {
   "cell_type": "code",
   "execution_count": null,
   "metadata": {
    "id": "wk-9a2fpoLcV"
   },
   "outputs": [],
   "source": [
    "# - Convert 'date_added' to datetime\n",
    "df['date_added'] = pd.to_datetime(df['date_added'], errors='coerce')"
   ]
  },
  {
   "cell_type": "code",
   "execution_count": null,
   "metadata": {
    "id": "U2O-4EqQTFMY"
   },
   "outputs": [],
   "source": [
    "# Create year and month columns\n",
    "df['year_added'] = df['date_added'].dt.year\n",
    "df['month_added'] = df['date_added'].dt.month"
   ]
  },
  {
   "cell_type": "code",
   "execution_count": null,
   "metadata": {
    "id": "qftAlWDsTHhY"
   },
   "outputs": [],
   "source": [
    "# Split 'duration' into 'duration_int' and 'duration_type' (e.g., \"90 min\" → 90 and \"min\")\n",
    "df[['duration_int', 'duration_type']] = df['duration'].str.extract('(\\d+)\\s*(\\D+)')\n",
    "df['duration_int'] = pd.to_numeric(df['duration_int'], errors='coerce')"
   ]
  },
  {
   "cell_type": "code",
   "execution_count": null,
   "metadata": {
    "id": "AiVlw407THMI"
   },
   "outputs": [],
   "source": [
    "# Count remaining nulls after wrangling\n",
    "null_counts_after = df.isnull().sum()\n",
    "print(null_counts_after)"
   ]
  },
  {
   "cell_type": "markdown",
   "metadata": {
    "id": "MSa1f5Uengrz"
   },
   "source": [
    "### What all manipulations have you done and insights you found?"
   ]
  },
  {
   "cell_type": "markdown",
   "metadata": {
    "id": "LbyXE7I1olp8"
   },
   "source": [
    "**Key Manipulations:**\n",
    "\n",
    "- Converted ***date_added*** column to proper datetime format.\n",
    "\n",
    "- Extracted ***year_added*** and ***month_added*** from ***date_added*** for trend analysis.\n",
    "\n",
    "- Split ***duration*** column into:\n",
    "\n",
    "    - duration_int (numeric part)\n",
    "\n",
    "    - duration_type (unit: minutes/seasons)\n",
    "\n",
    "- Identified and counted missing values in key columns like ***director***, ***cast***, ***country***, etc.\n",
    "\n",
    "**Insights Gained:**\n",
    "\n",
    "- ***director*** and ***cast*** have a large number of missing values, indicating possible data sparsity is associated with *older/regional/less known* content.\n",
    "\n",
    "- The ***duration_type*** allows easy differentiation between *Movies* and TV *Shows* for deeper analysis.\n",
    "\n",
    "- Extracted time features (***year_added***, ***month_added***) enable time-series insights like content growth and seasonal trends.\n",
    "\n"
   ]
  },
  {
   "cell_type": "markdown",
   "metadata": {
    "id": "GF8Ens_Soomf"
   },
   "source": [
    "## ***4. Data Vizualization, Storytelling & Experimenting with charts : Understand the relationships between variables***"
   ]
  },
  {
   "cell_type": "markdown",
   "metadata": {
    "id": "0wOQAZs5pc--"
   },
   "source": [
    "#### Chart - 1 (Distribution of Movies vs TV Shows)"
   ]
  },
  {
   "cell_type": "code",
   "execution_count": null,
   "metadata": {
    "id": "7v_ESjsspbW7"
   },
   "outputs": [],
   "source": [
    "# Distribution of Movies vs TV Shows\n",
    "type_counts = df['type'].value_counts()\n",
    "\n",
    "plt.figure(figsize=(10,6))\n",
    "plt.pie(type_counts, labels=type_counts.index, autopct='%1.1f%%', startangle=110, colors=['#ff9999','#66b3ff'])\n",
    "plt.title('Distribution of Movies vs TV Shows on Netflix')\n",
    "plt.axis('equal')\n",
    "plt.show()\n",
    "\n"
   ]
  },
  {
   "cell_type": "markdown",
   "metadata": {
    "id": "K5QZ13OEpz2H"
   },
   "source": [
    "##### 1. Why did you pick the specific chart?"
   ]
  },
  {
   "cell_type": "markdown",
   "metadata": {
    "id": "XESiWehPqBRc"
   },
   "source": [
    "A pie chart is effective for visualizing the proportion between two categories—here, Movies and TV Shows. It quickly communicates which format dominates."
   ]
  },
  {
   "cell_type": "markdown",
   "metadata": {
    "id": "lQ7QKXXCp7Bj"
   },
   "source": [
    "##### 2. What is/are the insight(s) found from the chart?"
   ]
  },
  {
   "cell_type": "markdown",
   "metadata": {
    "id": "C_j1G7yiqdRP"
   },
   "source": [
    "The number of movies on Netflix significantly exceeds the number of TV Shows, showing a heavier investment in movie content."
   ]
  },
  {
   "cell_type": "markdown",
   "metadata": {
    "id": "448CDAPjqfQr"
   },
   "source": [
    "##### 3. Will the gained insights help creating a positive business impact?\n",
    "Are there any insights that lead to negative growth? Justify with specific reason."
   ]
  },
  {
   "cell_type": "markdown",
   "metadata": {
    "id": "3cspy4FjqxJW"
   },
   "source": [
    "Yes. This helps Netflix evaluate whether diversifying into more TV shows can improve user retention, especially since series often boost engagement. However, over-investment in movies without enough long-form content may limit binge-watching behavior, potentially reducing user time-on-platform.\n",
    "\n"
   ]
  },
  {
   "cell_type": "markdown",
   "metadata": {
    "id": "KSlN3yHqYklG"
   },
   "source": [
    "#### Chart - 2 (Top 10 countries)"
   ]
  },
  {
   "cell_type": "code",
   "execution_count": null,
   "metadata": {
    "id": "R4YgtaqtYklH"
   },
   "outputs": [],
   "source": [
    "# Top 10 countries by content production on Netflix\n",
    "top_countries = df['country'].dropna().str.split(', ', expand=True).stack().value_counts().head(10)\n",
    "\n",
    "plt.figure(figsize=(10,5))\n",
    "sns.barplot(x=top_countries.values, y=top_countries.index, palette='viridis')\n",
    "plt.title('Top 10 Countries by Content Production on Netflix')\n",
    "plt.xlabel('Count')\n",
    "plt.ylabel('Country')\n",
    "plt.show()"
   ]
  },
  {
   "cell_type": "markdown",
   "metadata": {
    "id": "t6dVpIINYklI"
   },
   "source": [
    "##### 1. Why did you pick the specific chart?"
   ]
  },
  {
   "cell_type": "markdown",
   "metadata": {
    "id": "5aaW0BYyYklI"
   },
   "source": [
    "A horizontal bar chart clearly visualizes which countries contribute the most content. This format is ideal for ranked categorical data with long labels."
   ]
  },
  {
   "cell_type": "markdown",
   "metadata": {
    "id": "ijmpgYnKYklI"
   },
   "source": [
    "##### 2. What is/are the insight(s) found from the chart?"
   ]
  },
  {
   "cell_type": "markdown",
   "metadata": {
    "id": "PSx9atu2YklI"
   },
   "source": [
    "The United States dominates content production on Netflix, followed by India, the United Kingdom, and others. The U.S. alone accounts for a massive portion of the total content."
   ]
  },
  {
   "cell_type": "markdown",
   "metadata": {
    "id": "-JiQyfWJYklI"
   },
   "source": [
    "##### 3. Will the gained insights help creating a positive business impact?\n",
    "Are there any insights that lead to negative growth? Justify with specific reason."
   ]
  },
  {
   "cell_type": "markdown",
   "metadata": {
    "id": "BcBbebzrYklV"
   },
   "source": [
    "Yes, this insight can help Netflix localize strategies. It indicates strong content sourcing from the U.S. and growing markets like India. However, lack of content diversity from other regions may limit market penetration in underrepresented geographies, potentially restricting user acquisition.\n",
    "\n"
   ]
  },
  {
   "cell_type": "markdown",
   "metadata": {
    "id": "Rxtqw3BYNSR8"
   },
   "source": [
    "#### Chart - 3 (Top 10 directors)"
   ]
  },
  {
   "cell_type": "code",
   "execution_count": null,
   "metadata": {
    "id": "vnxtC6L5NSR9"
   },
   "outputs": [],
   "source": [
    "# Count top 10 directors\n",
    "director_counts = df['director'].dropna().str.split(', ').explode().value_counts().head(10)\n",
    "\n",
    "plt.figure(figsize=(10, 5))\n",
    "sns.barplot(x=director_counts.index, y=director_counts.values, palette=\"coolwarm\")\n",
    "plt.title(\"Top 10 Directors on Netflix\")\n",
    "plt.ylabel(\"Titles Directed\")\n",
    "plt.xticks(rotation=45)\n",
    "plt.tight_layout()\n",
    "plt.show()\n"
   ]
  },
  {
   "cell_type": "markdown",
   "metadata": {
    "id": "nykavAdwNSR-"
   },
   "source": [
    "##### 1. Why did you pick the specific chart?"
   ]
  },
  {
   "cell_type": "markdown",
   "metadata": {
    "id": "OfmhKQp7NSR-"
   },
   "source": [
    "It identifies the most active and possibly famous directors associated with Netflix."
   ]
  },
  {
   "cell_type": "markdown",
   "metadata": {
    "id": "khRUoRmSNSR_"
   },
   "source": [
    "##### 2. What is/are the insight(s) found from the chart?"
   ]
  },
  {
   "cell_type": "markdown",
   "metadata": {
    "id": "HFEH3Sm9NSR_"
   },
   "source": [
    "Top directors who repeatedly appear, indicates trust and investment by Netflix in specific creations."
   ]
  },
  {
   "cell_type": "markdown",
   "metadata": {
    "id": "VIHsDcXHNSR_"
   },
   "source": [
    "##### 3. Will the gained insights help creating a positive business impact?\n",
    "Are there any insights that lead to negative growth? Justify with specific reason."
   ]
  },
  {
   "cell_type": "markdown",
   "metadata": {
    "id": "JMVNThELNSR_"
   },
   "source": [
    " Yes, this shows Reliable directors helps to scale production quickly. Due to this there is a risk of similar content themes or limited variety in storytelling which can adversely affect the growth.\n",
    "\n"
   ]
  },
  {
   "cell_type": "markdown",
   "metadata": {
    "id": "YJ55k-q6phqO"
   },
   "source": [
    "#### Chart - 4 (Top 10 Most Frequent Actors)"
   ]
  },
  {
   "cell_type": "code",
   "execution_count": null,
   "metadata": {
    "id": "B2aS4O1ophqO"
   },
   "outputs": [],
   "source": [
    "# Top 10 Most Frequent Actors on Netflix\n",
    "actor_list = df['cast'].dropna().str.split(', ').explode()\n",
    "top_actors = actor_list.value_counts().head(10)\n",
    "print(top_actors)\n",
    "\n",
    "plt.figure(figsize=(10, 6))\n",
    "sns.barplot(x=top_actors.index, y=top_actors.values, palette=\"coolwarm\")\n",
    "plt.title(\"Top 10 Most Frequent Actors on Netflix\")\n",
    "plt.ylabel(\"Appearances\")\n",
    "plt.xticks(rotation=45)\n",
    "plt.tight_layout()\n",
    "plt.show()\n",
    "\n"
   ]
  },
  {
   "cell_type": "markdown",
   "metadata": {
    "id": "gCFgpxoyphqP"
   },
   "source": [
    "##### 1. Why did you pick the specific chart?"
   ]
  },
  {
   "cell_type": "markdown",
   "metadata": {
    "id": "TVxDimi2phqP"
   },
   "source": [
    "Bar plots help identify actors frequently featured in content which is good for partnership and marketing."
   ]
  },
  {
   "cell_type": "markdown",
   "metadata": {
    "id": "OVtJsKN_phqQ"
   },
   "source": [
    "##### 2. What is/are the insight(s) found from the chart?"
   ]
  },
  {
   "cell_type": "markdown",
   "metadata": {
    "id": "ngGi97qjphqQ"
   },
   "source": [
    "Certain actors appear far more often than others, indicating star preferences or contracts."
   ]
  },
  {
   "cell_type": "markdown",
   "metadata": {
    "id": "lssrdh5qphqQ"
   },
   "source": [
    "##### 3. Will the gained insights help creating a positive business impact?\n",
    "Are there any insights that lead to negative growth? Justify with specific reason."
   ]
  },
  {
   "cell_type": "markdown",
   "metadata": {
    "id": "tBpY5ekJphqQ"
   },
   "source": [
    "The insights indicates that Star power can bring viewership and Help in casting popular faces.However Overuse may lead to decline in views as viewers may crave for new talent/faces.\n",
    "\n"
   ]
  },
  {
   "cell_type": "markdown",
   "metadata": {
    "id": "U2RJ9gkRphqQ"
   },
   "source": [
    "#### Chart - 5 (Popular Topics on Netflix)"
   ]
  },
  {
   "cell_type": "code",
   "execution_count": null,
   "metadata": {
    "id": "GM7a4YP4phqQ"
   },
   "outputs": [],
   "source": [
    "# Popular Topics on Netflix\n",
    "from wordcloud import WordCloud\n",
    "text = ' '.join(df['description'].dropna().tolist())\n",
    "\n",
    "plt.figure(figsize=(12,5))\n",
    "wordcloud = WordCloud(width=800, height=400, background_color='white').generate(text)\n",
    "plt.imshow(wordcloud, interpolation='bilinear')\n",
    "plt.axis('off')\n",
    "plt.title('Popular Topics on Netflix')\n",
    "plt.show()\n",
    "\n"
   ]
  },
  {
   "cell_type": "markdown",
   "metadata": {
    "id": "1M8mcRywphqQ"
   },
   "source": [
    "##### 1. Why did you pick the specific chart?"
   ]
  },
  {
   "cell_type": "markdown",
   "metadata": {
    "id": "8agQvks0phqQ"
   },
   "source": [
    "WordCloud gives a quick, creative overview of common themes, genres, or topics Netflix content revolve around."
   ]
  },
  {
   "cell_type": "markdown",
   "metadata": {
    "id": "tgIPom80phqQ"
   },
   "source": [
    "##### 2. What is/are the insight(s) found from the chart?"
   ]
  },
  {
   "cell_type": "markdown",
   "metadata": {
    "id": "Qp13pnNzphqQ"
   },
   "source": [
    "Top topics are life, Family , World, friend, love etc. This Indicates user interest and Netflix’s content production strategy."
   ]
  },
  {
   "cell_type": "markdown",
   "metadata": {
    "id": "JMzcOPDDphqR"
   },
   "source": [
    "##### 3. Will the gained insights help creating a positive business impact?\n",
    "Are there any insights that lead to negative growth? Justify with specific reason."
   ]
  },
  {
   "cell_type": "markdown",
   "metadata": {
    "id": "R4Ka1PC2phqR"
   },
   "source": [
    "Insights shows netfix investment in topics like life and family. Lesser visibility of niche genres like Adventure , Dark etc. can impact negatively in markerting.\n"
   ]
  },
  {
   "cell_type": "markdown",
   "metadata": {
    "id": "EM7whBJCYoAo"
   },
   "source": [
    "#### Chart - 6 (Top 10 most common genres/categories)"
   ]
  },
  {
   "cell_type": "code",
   "execution_count": null,
   "metadata": {
    "id": "t6GMdE67YoAp"
   },
   "outputs": [],
   "source": [
    "# Top 10 most common genres/categories on Netflix\n",
    "from collections import Counter\n",
    "\n",
    "# Split and count genres\n",
    "genre_list = df['listed_in'].dropna().str.split(', ')\n",
    "flat_genres = [genre for sublist in genre_list for genre in sublist]\n",
    "top_genres = Counter(flat_genres).most_common(10)\n",
    "genres, counts = zip(*top_genres)\n",
    "\n",
    "# Plotting\n",
    "plt.figure(figsize=(10,5))\n",
    "sns.barplot(x=list(counts), y=list(genres), palette='magma')\n",
    "plt.title('Top 10 Genres on Netflix')\n",
    "plt.xlabel('Count')\n",
    "plt.ylabel('Genre')\n",
    "plt.show()\n",
    "\n"
   ]
  },
  {
   "cell_type": "markdown",
   "metadata": {
    "id": "fge-S5ZAYoAp"
   },
   "source": [
    "##### 1. Why did you pick the specific chart?"
   ]
  },
  {
   "cell_type": "markdown",
   "metadata": {
    "id": "5dBItgRVYoAp"
   },
   "source": [
    "A horizontal bar chart is perfect for showcasing frequency distribution of categorical data like genres. It provides clarity even when category names are long."
   ]
  },
  {
   "cell_type": "markdown",
   "metadata": {
    "id": "85gYPyotYoAp"
   },
   "source": [
    "##### 2. What is/are the insight(s) found from the chart?"
   ]
  },
  {
   "cell_type": "markdown",
   "metadata": {
    "id": "4jstXR6OYoAp"
   },
   "source": [
    "The most common genres on Netflix include International Movies,Dramas, and Comedies. These dominate the graph, suggesting user demand is high in these categories."
   ]
  },
  {
   "cell_type": "markdown",
   "metadata": {
    "id": "RoGjAbkUYoAp"
   },
   "source": [
    "##### 3. Will the gained insights help creating a positive business impact?\n",
    "Are there any insights that lead to negative growth? Justify with specific reason."
   ]
  },
  {
   "cell_type": "markdown",
   "metadata": {
    "id": "zfJ8IqMcYoAp"
   },
   "source": [
    "Yes. Understanding genre preferences can help Netflix personalize recommendations and focus future content investments. However, over-representation in certain genres (e.g., dramas) could lead to audience fatigue and underrepresentation of niche interests, which might limit audience diversity."
   ]
  },
  {
   "cell_type": "markdown",
   "metadata": {
    "id": "DCHBdydwQvm6"
   },
   "source": [
    "#### Chart - 7 (Rating Distribution)"
   ]
  },
  {
   "cell_type": "code",
   "execution_count": null,
   "metadata": {
    "id": "zhMD70ogQvm7"
   },
   "outputs": [],
   "source": [
    "# Rating Distribution\n",
    "plt.figure(figsize=(10, 5))\n",
    "rating_counts = df['rating'].dropna().value_counts().sort_values(ascending=False)\n",
    "print(rating_counts)\n",
    "sns.barplot(x=rating_counts.index, y=rating_counts.values, palette=\"rocket\")\n",
    "plt.title(\"Distribution of Ratings\")\n",
    "plt.xlabel(\"Rating\")\n",
    "plt.ylabel(\"Count\")\n",
    "plt.xticks(rotation=45)\n",
    "plt.show()\n",
    "\n"
   ]
  },
  {
   "cell_type": "markdown",
   "metadata": {
    "id": "sVYZsWcEQvm7"
   },
   "source": [
    "##### 1. Why did you pick the specific chart?"
   ]
  },
  {
   "cell_type": "markdown",
   "metadata": {
    "id": "zxKhxyuKQvm7"
   },
   "source": [
    "Bar charts are best for comparing categorical variables like content ratings ."
   ]
  },
  {
   "cell_type": "markdown",
   "metadata": {
    "id": "t8JatIe-Qvm8"
   },
   "source": [
    "##### 2. What is/are the insight(s) found from the chart?"
   ]
  },
  {
   "cell_type": "markdown",
   "metadata": {
    "id": "mDU9cqjQQvm8"
   },
   "source": [
    "TV-MA and TV-14 dominate the content, indicating a majority of mature and teen audience targeting and Lower counts for G, TV-Y7-FV, etc., show underrepresentation of children’s content."
   ]
  },
  {
   "cell_type": "markdown",
   "metadata": {
    "id": "IVNFHRAWQvm8"
   },
   "source": [
    "##### 3. Will the gained insights help creating a positive business impact?\n",
    "Are there any insights that lead to negative growth? Justify with specific reason."
   ]
  },
  {
   "cell_type": "markdown",
   "metadata": {
    "id": "xEAIy9AzQvm8"
   },
   "source": [
    "Yes, It Highlights Netflix's focus on adult and teen demographics is useful for targeting ads and promotions. But there must be a loss in children/family content—expanding this could open up a new market segment.\n",
    "\n"
   ]
  },
  {
   "cell_type": "markdown",
   "metadata": {
    "id": "egMDF_dFTX5_"
   },
   "source": [
    "#### Chart - 8 (Content Added per Month)"
   ]
  },
  {
   "cell_type": "code",
   "execution_count": null,
   "metadata": {
    "id": "CvjOI7ZLTX5_"
   },
   "outputs": [],
   "source": [
    "# Content added to Netflix by month (seasonality check)\n",
    "monthly_counts = df['month_added'].value_counts().sort_index()\n",
    "\n",
    "plt.figure(figsize=(10,5))\n",
    "sns.barplot(x=monthly_counts.index, y=monthly_counts.values, palette='coolwarm')\n",
    "plt.title('Content Added to Netflix by Month')\n",
    "plt.xlabel('Month')\n",
    "plt.ylabel('Count')\n",
    "plt.xticks(ticks=range(0, 12), labels=['Jan', 'Feb', 'Mar', 'Apr', 'May', 'Jun',\n",
    "                                       'Jul', 'Aug', 'Sep', 'Oct', 'Nov', 'Dec'])\n",
    "plt.grid(axis='y')\n",
    "plt.show()\n"
   ]
  },
  {
   "cell_type": "markdown",
   "metadata": {
    "id": "voKUFqU4TX6A"
   },
   "source": [
    "##### 1. Why did you pick the specific chart?"
   ]
  },
  {
   "cell_type": "markdown",
   "metadata": {
    "id": "tuGwFLydTX6A"
   },
   "source": [
    "A bar chart is ideal for showing how content addition varies month-to-month, helping to identify seasonal trends or marketing strategies."
   ]
  },
  {
   "cell_type": "markdown",
   "metadata": {
    "id": "3yH-nTqRTX6A"
   },
   "source": [
    "##### 2. What is/are the insight(s) found from the chart?"
   ]
  },
  {
   "cell_type": "markdown",
   "metadata": {
    "id": "pWXtwkaGTX6A"
   },
   "source": [
    "Certain months, especially around october and December, tend to have spikes in content addition. This likely aligns with holidays or school breaks when viewership is expected to be higher."
   ]
  },
  {
   "cell_type": "markdown",
   "metadata": {
    "id": "lLixH6KLTX6A"
   },
   "source": [
    "##### 3. Will the gained insights help creating a positive business impact?\n",
    "Are there any insights that lead to negative growth? Justify with specific reason."
   ]
  },
  {
   "cell_type": "markdown",
   "metadata": {
    "id": "B7G3y0oRTX6A"
   },
   "source": [
    "Yes, this insight can help Netflix plan content releases during busy times to boost views and subscriptions. But if there’s not enough new content in some months, people might lose interest, which could affect how many stay subscribed.\n",
    "\n"
   ]
  },
  {
   "cell_type": "markdown",
   "metadata": {
    "id": "4Of9eVA-YrdM"
   },
   "source": [
    "#### Chart - 9 (Number of Releases per year)"
   ]
  },
  {
   "cell_type": "code",
   "execution_count": null,
   "metadata": {
    "id": "irlUoxc8YrdO"
   },
   "outputs": [],
   "source": [
    "# Number of Netflix releases per year\n",
    "release_counts = df['release_year'].value_counts().sort_index()\n",
    "\n",
    "plt.figure(figsize=(19,6))\n",
    "sns.lineplot(x=release_counts.index, y=release_counts.values, marker='o', color='teal')\n",
    "plt.title('Netflix Content Released Over the Years')\n",
    "plt.xlabel('Release Year')\n",
    "plt.ylabel('Count')\n",
    "plt.grid(True)\n",
    "plt.show()"
   ]
  },
  {
   "cell_type": "markdown",
   "metadata": {
    "id": "iky9q4vBYrdO"
   },
   "source": [
    "##### 1. Why did you pick the specific chart?"
   ]
  },
  {
   "cell_type": "markdown",
   "metadata": {
    "id": "aJRCwT6DYrdO"
   },
   "source": [
    "A line chart is ideal for showing trends over time. It clearly illustrates the rise or fall in content production across years."
   ]
  },
  {
   "cell_type": "markdown",
   "metadata": {
    "id": "F6T5p64dYrdO"
   },
   "source": [
    "##### 2. What is/are the insight(s) found from the chart?"
   ]
  },
  {
   "cell_type": "markdown",
   "metadata": {
    "id": "Xx8WAJvtYrdO"
   },
   "source": [
    "Netflix significantly ramped up content releases from 2015 onwards, peaking around 2018–2019. There’s a noticeable dip post-2019, possibly due to the COVID-19 pandemic’s impact on production."
   ]
  },
  {
   "cell_type": "markdown",
   "metadata": {
    "id": "y-Ehk30pYrdP"
   },
   "source": [
    "##### 3. Will the gained insights help creating a positive business impact?\n",
    "Are there any insights that lead to negative growth? Justify with specific reason."
   ]
  },
  {
   "cell_type": "markdown",
   "metadata": {
    "id": "jLNxxz7MYrdP"
   },
   "source": [
    "Yes. This insight helps Netflix  understand which countries produce the most content. It can guide where to invest in future shows or movies. The drop in content after 2019 might be due to global disruptions, showing that Netflix should have backup plans to keep viewers engaged when production slows down."
   ]
  },
  {
   "cell_type": "markdown",
   "metadata": {
    "id": "x-EpHcCOp1ci"
   },
   "source": [
    "#### Chart - 10 (Content Type across countries)"
   ]
  },
  {
   "cell_type": "code",
   "execution_count": null,
   "metadata": {
    "id": "JQQMuPyJv7ha"
   },
   "outputs": [],
   "source": [
    "# Content Type across Countries\n",
    "top_countries = df['country'].value_counts().head(10).index\n",
    "filtered_df = df[df['country'].isin(top_countries)]\n",
    "\n",
    "country_type = pd.crosstab(filtered_df['country'], filtered_df['type']).sort_values(by=['Movie', 'TV Show'], ascending=False)\n",
    "\n",
    "country_type.plot(kind='bar', stacked=True, figsize=(10, 6), colormap='tab20c')\n",
    "plt.title('Content Type by Country')\n",
    "plt.xlabel('Country')\n",
    "plt.ylabel('Count')\n",
    "plt.legend(title='Type')\n",
    "plt.xticks(rotation=45)\n",
    "plt.tight_layout()\n",
    "plt.show()"
   ]
  },
  {
   "cell_type": "markdown",
   "metadata": {
    "id": "X_VqEhTip1ck"
   },
   "source": [
    "##### 1. Why did you pick the specific chart?"
   ]
  },
  {
   "cell_type": "markdown",
   "metadata": {
    "id": "-vsMzt_np1ck"
   },
   "source": [
    "Stacked bar chart clearly compares Movies vs TV Shows across top countries."
   ]
  },
  {
   "cell_type": "markdown",
   "metadata": {
    "id": "8zGJKyg5p1ck"
   },
   "source": [
    "##### 2. What is/are the insight(s) found from the chart?"
   ]
  },
  {
   "cell_type": "markdown",
   "metadata": {
    "id": "ZYdMsrqVp1ck"
   },
   "source": [
    "The following insights are found from the chart :\n",
    "- USA leads in total content, mostly Movies.\n",
    "- UK has a more balanced mix.\n",
    "- India, Canada, France contribute mainly Movies.\n",
    "- South Korea & Japan lean more toward TV Shows."
   ]
  },
  {
   "cell_type": "markdown",
   "metadata": {
    "id": "PVzmfK_Ep1ck"
   },
   "source": [
    "##### 3. Will the gained insights help creating a positive business impact?\n",
    "Are there any insights that lead to negative growth? Justify with specific reason."
   ]
  },
  {
   "cell_type": "markdown",
   "metadata": {
    "id": "druuKYZpp1ck"
   },
   "source": [
    "Yes, The insights Helps target content and marketing by region (like try to focus on TV shows in South Korea and movies in US). However Heavy reliance on U.S.-originated content could backfire if audience preferences shift."
   ]
  },
  {
   "cell_type": "markdown",
   "metadata": {
    "id": "z-FSShG9usml"
   },
   "source": [
    "#### Chart - 11 (Content Type over Time)"
   ]
  },
  {
   "cell_type": "code",
   "execution_count": null,
   "metadata": {
    "id": "T8gu6DLEusmm"
   },
   "outputs": [],
   "source": [
    "# Content Type over Time\n",
    "release_counts = df.groupby(['release_year', 'type']).size().unstack().fillna(0)\n",
    "\n",
    "release_counts.plot(kind='line', figsize=(12, 6), linewidth=2)\n",
    "plt.title('Content Type over Time')\n",
    "plt.xlabel('Year')\n",
    "plt.ylabel('Count')\n",
    "plt.legend(title='Type')\n",
    "plt.tight_layout()\n",
    "plt.show()\n"
   ]
  },
  {
   "cell_type": "markdown",
   "metadata": {
    "id": "CHn8gxaMusmn"
   },
   "source": [
    "##### 1. Why did you pick the specific chart?"
   ]
  },
  {
   "cell_type": "markdown",
   "metadata": {
    "id": "XdLukT83usmn"
   },
   "source": [
    "A line chart is perfect to visualize how content production trends have changed over years for both Movies and TV Shows."
   ]
  },
  {
   "cell_type": "markdown",
   "metadata": {
    "id": "5i_8c5rbusmn"
   },
   "source": [
    "##### 2. What is/are the insight(s) found from the chart?"
   ]
  },
  {
   "cell_type": "markdown",
   "metadata": {
    "id": "m4s7mQqYusmn"
   },
   "source": [
    "- There is the Sharp increase in content after 2015, especially in TV Shows.\n",
    "\n",
    "- Movies dominated earlier years and TV Shows have increase in recent years."
   ]
  },
  {
   "cell_type": "markdown",
   "metadata": {
    "id": "bgMaE-WIusmo"
   },
   "source": [
    "##### 3. Will the gained insights help creating a positive business impact?\n",
    "Are there any insights that lead to negative growth? Justify with specific reason."
   ]
  },
  {
   "cell_type": "markdown",
   "metadata": {
    "id": "whgk3ncOusmo"
   },
   "source": [
    "The insights Shows rising demand for TV Shows which suggests that Netflix can invest more in series. And Decline in Movie growth may indicate market saturation or shifting preferences."
   ]
  },
  {
   "cell_type": "markdown",
   "metadata": {
    "id": "JQcLu1fr7GMK"
   },
   "source": [
    "#### Chart - 12 (Top Genres by Country and Type)"
   ]
  },
  {
   "cell_type": "code",
   "execution_count": null,
   "metadata": {
    "id": "ZSwxXmsS7GML"
   },
   "outputs": [],
   "source": [
    "# Top Genres by Country and Type\n",
    "df_genre = df.dropna(subset=['listed_in', 'country', 'type']).copy()\n",
    "df_genre['genre'] = df_genre['listed_in'].str.split(', ')\n",
    "df_genre['country'] = df_genre['country'].str.split(', ')\n",
    "df_genre = df_genre.explode('genre').explode('country')\n",
    "\n",
    "# Focus on top 5 countries and top 5 genres for clarity\n",
    "top_countries = df_genre['country'].value_counts().head(5).index\n",
    "top_genres = df_genre['genre'].value_counts().head(5).index\n",
    "\n",
    "filtered = df_genre[df_genre['country'].isin(top_countries) & df_genre['genre'].isin(top_genres)]\n",
    "\n",
    "# Pivot table\n",
    "genre_country_type = pd.pivot_table(filtered, index='genre', columns=['country', 'type'],\n",
    "                                    values='title', aggfunc='count', fill_value=0)\n",
    "\n",
    "# Heatmap\n",
    "plt.figure(figsize=(14, 6))\n",
    "sns.heatmap(genre_country_type, annot=True, fmt='d', cmap='YlGnBu')\n",
    "plt.title('Top Genres by Country and Type (Heatmap)')\n",
    "plt.xlabel('Country & Type')\n",
    "plt.ylabel('Genre')\n",
    "plt.tight_layout()\n",
    "plt.show()\n",
    "\n"
   ]
  },
  {
   "cell_type": "markdown",
   "metadata": {
    "id": "fDp9gpKp7GML"
   },
   "source": [
    "##### 1. Why did you pick the specific chart?"
   ]
  },
  {
   "cell_type": "markdown",
   "metadata": {
    "id": "8MO0titI7GMM"
   },
   "source": [
    "A heatmap effectively compares multiple variables—genre, country, and content type—in a compact, visual format, highlighting patterns via color intensity."
   ]
  },
  {
   "cell_type": "markdown",
   "metadata": {
    "id": "Y-m2m8Xj7GMM"
   },
   "source": [
    "##### 2. What is/are the insight(s) found from the chart?"
   ]
  },
  {
   "cell_type": "markdown",
   "metadata": {
    "id": "R47Dq9fe7GMM"
   },
   "source": [
    "- The US dominates content across most top genres and types.\n",
    "- India heavily focuses on International Movies.\n",
    "- Genre preferences vary by country (e.g., UK's strength in International TV Shows).\n",
    "- Movies generally have higher representation in these top genres than TV shows within countries.\n",
    "- Canada and France show lower output in these specific popular genres."
   ]
  },
  {
   "cell_type": "markdown",
   "metadata": {
    "id": "q8ZLOMps7GMM"
   },
   "source": [
    "##### 3. Will the gained insights help creating a positive business impact?\n",
    "Are there any insights that lead to negative growth? Justify with specific reason."
   ]
  },
  {
   "cell_type": "markdown",
   "metadata": {
    "id": "r3BqKHUa7GMN"
   },
   "source": [
    "Yes, Insights Helps Netflix tailor genre-based content strategy per country and type and Supports localized marketing and production. However, If over-relying on a few genres, may cause viewer fatigue and risks lack of diversity"
   ]
  },
  {
   "cell_type": "markdown",
   "metadata": {
    "id": "67gd43eV7NN0"
   },
   "source": [
    "#### Chart - 13 (Yearly Content Additions by Type and Rating)"
   ]
  },
  {
   "cell_type": "code",
   "execution_count": null,
   "metadata": {
    "id": "HV11SkRh7NN1"
   },
   "outputs": [],
   "source": [
    "# Yearly Content Additions by Type and Rating\n",
    "df_filtered = df.dropna(subset=['year_added', 'type', 'rating'])\n",
    "top_ratings = df_filtered['rating'].value_counts().head(5).index\n",
    "df_filtered = df_filtered[df_filtered['rating'].isin(top_ratings)]\n",
    "\n",
    "# Group, pivot, and plot\n",
    "pivot = df_filtered.groupby(['year_added', 'type', 'rating']).size() \\\n",
    "    .unstack(['type', 'rating'], fill_value=0) \\\n",
    "    .sort_index()\n",
    "\n",
    "pivot.index = pivot.index.astype(int)  # Ensure years are integers\n",
    "\n",
    "pivot.plot(kind='bar', stacked=True, figsize=(14, 7), colormap='tab20c')\n",
    "plt.title('Yearly Content Additions by Type and Rating')\n",
    "plt.xlabel('Year')\n",
    "plt.ylabel('Count')\n",
    "plt.xticks(rotation=45)\n",
    "plt.tight_layout()\n",
    "plt.show()\n",
    "\n",
    "\n",
    "\n"
   ]
  },
  {
   "cell_type": "markdown",
   "metadata": {
    "id": "wciLJ_RS7NN1"
   },
   "source": [
    "##### 1. Why did you pick the specific chart?"
   ]
  },
  {
   "cell_type": "markdown",
   "metadata": {
    "id": "ntg9AZ1X7NN1"
   },
   "source": [
    "A stacked bar chart allows clear visualization of how content additions are distributed by rating and type over the years, showing both volume and composition changes."
   ]
  },
  {
   "cell_type": "markdown",
   "metadata": {
    "id": "21fPlYjx7NN1"
   },
   "source": [
    "##### 2. What is/are the insight(s) found from the chart?"
   ]
  },
  {
   "cell_type": "markdown",
   "metadata": {
    "id": "mxtxYRnP7NN1"
   },
   "source": [
    "- Significant growth post-2015, peak in 2019-2020, decline in 2021.\n",
    "- Movie additions generally higher than TV shows.\n",
    "- Mature ratings (R, TV-MA, TV-14) dominate additions for both types, especially in peak years.\n",
    "- Early years had very low additions.\n",
    "- 2021 shows a drop across most categories."
   ]
  },
  {
   "cell_type": "markdown",
   "metadata": {
    "id": "d8LXm3NP7NN2"
   },
   "source": [
    "##### 3. Will the gained insights help creating a positive business impact?\n",
    "Are there any insights that lead to negative growth? Justify with specific reason."
   ]
  },
  {
   "cell_type": "markdown",
   "metadata": {
    "id": "70YW_tX37NN2"
   },
   "source": [
    " Yes, Insights shows investment in mature content, movie-heavy strategy, and peak release periods. Decline in 2021 suggests potential production issues or strategy shift which needs to be investigated. Over-emphasis on mature content might limit audience reach."
   ]
  },
  {
   "cell_type": "markdown",
   "metadata": {
    "id": "JcMwzZxoAimU"
   },
   "source": [
    "## **5. Solution to Business Objective**"
   ]
  },
  {
   "cell_type": "markdown",
   "metadata": {
    "id": "8G2x9gOozGDZ"
   },
   "source": [
    "#### What do you suggest the client to achieve Business Objective ?\n",
    "Explain Briefly."
   ]
  },
  {
   "cell_type": "markdown",
   "metadata": {
    "id": "pASKb0qOza21"
   },
   "source": [
    "   * Focus more on top-performing ratings like **TV-MA** and **TV-14** which dominate the platform.\n",
    "   * Ensure a balance of family-friendly and adult content to retain a wide audience base.\n",
    "   * Expand **TV Show** Offerings in emerging markets with regional languages.\n",
    "   * **Customize Content Strategies** based on country-specific preferences.\n",
    "   * Genres like **International TV Shows**, **Dramas**, and **Comedies** appear most frequently and should be prioritized for production and promotion.\n",
    "   * Introduce more niche genres to attract underserved user segments.\n",
    "   * Countries like the **United States**, **India**, and **UK** are highly represented — continue collaborating with top production houses from these regions.\n",
    "   * Cast like **Anupam Kher**, **Shah Rukh Khan**, or **David Attenborough** appear frequently — audience preference for familiar faces should guide future collaborations.\n",
    "   * Avoid overly long content which may lead to viewer drop-offs.\n",
    "   * Ensure all records have complete info (e.g. directors, cast, country) to improve **search relevance** and **algorithmic recommendations**.\n",
    "   * Identify **peak months or quarters** for adding region-specific content and launch promotions around them."
   ]
  },
  {
   "cell_type": "markdown",
   "metadata": {
    "id": "gCX9965dhzqZ"
   },
   "source": [
    "# **Conclusion**"
   ]
  },
  {
   "cell_type": "markdown",
   "metadata": {
    "id": "Fjb1IsQkh3yE"
   },
   "source": [
    "The Netflix data analysis shows that most content is added after 2015, with TV Shows gaining popularity over time. The United States leads in content production, followed by India and the UK. Popular genres like TV shows, Drama and Comedy are watched the most across top countries. Ratings such as TV-MA and TV-14 dominate the platform, showing a trend toward mature content. However, Netflix can grow further by adding more family-friendly shows and focusing on regional content. Overall, this analysis helps Netflix understand audience preferences and make smarter decisions to improve user engagement and expand in global markets.\n"
   ]
  }
 ],
 "metadata": {
  "colab": {
   "collapsed_sections": [
    "0wOQAZs5pc--",
    "lQ7QKXXCp7Bj",
    "KSlN3yHqYklG",
    "Rxtqw3BYNSR8",
    "YJ55k-q6phqO",
    "gCFgpxoyphqP",
    "OVtJsKN_phqQ",
    "lssrdh5qphqQ",
    "U2RJ9gkRphqQ",
    "1M8mcRywphqQ",
    "EM7whBJCYoAo",
    "fge-S5ZAYoAp",
    "DCHBdydwQvm6",
    "Q7_MHPpmUOgL",
    "egMDF_dFTX5_",
    "4Of9eVA-YrdM",
    "_ouA3fa0phqN",
    "Seke61FWphqN",
    "t27r6nlMphqO",
    "r2jJGEOYphqO",
    "b0JNsNcRphqO"
   ],
   "private_outputs": true,
   "provenance": [
    {
     "file_id": "1HOO9WljrszmxUSnIYe9upxA9IHzEzRuF",
     "timestamp": 1746360808335
    }
   ]
  },
  "kernelspec": {
   "display_name": "Python 3",
   "name": "python3"
  },
  "language_info": {
   "codemirror_mode": {
    "name": "ipython",
    "version": 3
   },
   "file_extension": ".py",
   "mimetype": "text/x-python",
   "name": "python",
   "nbconvert_exporter": "python",
   "pygments_lexer": "ipython3",
   "version": "3.13.3"
  }
 },
 "nbformat": 4,
 "nbformat_minor": 0
}
